{
  "nbformat": 4,
  "nbformat_minor": 0,
  "metadata": {
    "colab": {
      "name": "Untitled2.ipynb",
      "provenance": [],
      "authorship_tag": "ABX9TyPEwNODZe7ifQB7zfAWAusn",
      "include_colab_link": true
    },
    "kernelspec": {
      "name": "python3",
      "display_name": "Python 3"
    },
    "language_info": {
      "name": "python"
    }
  },
  "cells": [
    {
      "cell_type": "markdown",
      "metadata": {
        "id": "view-in-github",
        "colab_type": "text"
      },
      "source": [
        "<a href=\"https://colab.research.google.com/github/PauloAylas/Algoritmos2/blob/main/Genially.ipynb\" target=\"_parent\"><img src=\"https://colab.research.google.com/assets/colab-badge.svg\" alt=\"Open In Colab\"/></a>"
      ]
    },
    {
      "cell_type": "code",
      "metadata": {
        "id": "LwoWcHveJrgd"
      },
      "source": [
        ""
      ],
      "execution_count": null,
      "outputs": []
    },
    {
      "cell_type": "markdown",
      "metadata": {
        "id": "y0CfAzsOok7e"
      },
      "source": [
        "Pregunta 5:\n"
      ]
    },
    {
      "cell_type": "code",
      "metadata": {
        "id": "C2ZAptkbomHn",
        "colab": {
          "base_uri": "https://localhost:8080/"
        },
        "outputId": "a3435783-b493-4691-f020-422456f3388f"
      },
      "source": [
        "%%writefile Genially>5.cpp.cpp\n",
        "#include <iostream>\n",
        "using namespace std;\n",
        "\n",
        "public abstract class figura\n",
        "{\n",
        "    private String color;\n",
        " \n",
        " public Figura(String color)//constructor\n",
        " {\n",
        " this.color=color;     }\n",
        "\n",
        "abstract double area();//metodo abstracto\n",
        " abstract double perimetro();//metodo abstracto\n",
        "\n",
        "public String getcolor()//metodo no abstracto\n",
        "{\n",
        "    return color;\n",
        "\n",
        "}\n",
        "\n",
        "}"
      ],
      "execution_count": 38,
      "outputs": [
        {
          "output_type": "stream",
          "name": "stdout",
          "text": [
            "Overwriting Genially>5.cpp.cpp\n"
          ]
        }
      ]
    },
    {
      "cell_type": "code",
      "metadata": {
        "id": "xrKnEqeWJtFK"
      },
      "source": [
        ""
      ],
      "execution_count": 36,
      "outputs": []
    },
    {
      "cell_type": "markdown",
      "metadata": {
        "id": "9pzERE58p2Q_"
      },
      "source": [
        "Una clase abstracta no puede crear objetos, porque no sé puede usar new y tambien porque tiene metodos que no estan definidos.\n"
      ]
    },
    {
      "cell_type": "markdown",
      "metadata": {
        "id": "Akbq_4sKqGML"
      },
      "source": [
        "Pregunta 6:"
      ]
    },
    {
      "cell_type": "code",
      "metadata": {
        "id": "te6p9OMsqH5-",
        "colab": {
          "base_uri": "https://localhost:8080/"
        },
        "outputId": "5ec99be3-50c5-45b3-fdc7-f00aae02f63b"
      },
      "source": [
        "%%writefile Genially>5.cpp\n",
        "#include <iostream>\n",
        "\n",
        "class Objeto\n",
        "{\n",
        "    private:\n",
        "    int alto;\n",
        "\n",
        "public:\n",
        "  Objeto()\n",
        " ~Objeto() //destructor\n",
        "\n",
        "\n",
        "}"
      ],
      "execution_count": 39,
      "outputs": [
        {
          "output_type": "stream",
          "name": "stdout",
          "text": [
            "Overwriting Genially>5.cpp\n"
          ]
        }
      ]
    },
    {
      "cell_type": "markdown",
      "metadata": {
        "id": "UiLLO2pyq5AB"
      },
      "source": [
        "Se crea para liberar los recursos de memoría que la clase esta utilizando."
      ]
    },
    {
      "cell_type": "markdown",
      "metadata": {
        "id": "2pxmYFW3rOF0"
      },
      "source": [
        "Pregunta 7:"
      ]
    },
    {
      "cell_type": "code",
      "metadata": {
        "id": "Xk4UpepGrQLB",
        "colab": {
          "base_uri": "https://localhost:8080/"
        },
        "outputId": "128632fa-1835-4b95-bcda-e1c5b140047d"
      },
      "source": [
        "%%writefile Genially>5.cpp\n",
        "\n",
        "Para asignar memoria se utilizan los punteros, permite hacerlos de manera dinamica.\n",
        "\n"
      ],
      "execution_count": 40,
      "outputs": [
        {
          "output_type": "stream",
          "name": "stdout",
          "text": [
            "Overwriting Genially>5.cpp\n"
          ]
        }
      ]
    },
    {
      "cell_type": "markdown",
      "metadata": {
        "id": "Be3UxV8CrvUC"
      },
      "source": [
        "Pregunta 8:"
      ]
    },
    {
      "cell_type": "code",
      "metadata": {
        "id": "1LDgpUotrwu7",
        "colab": {
          "base_uri": "https://localhost:8080/"
        },
        "outputId": "58bc542d-ecd3-4e6b-8005-79cef549f4d1"
      },
      "source": [
        "%%writefile Genially>5.cpp\n",
        "\n",
        "no"
      ],
      "execution_count": 8,
      "outputs": [
        {
          "output_type": "stream",
          "name": "stdout",
          "text": [
            "Overwriting Genially>5.cpp\n"
          ]
        }
      ]
    },
    {
      "cell_type": "markdown",
      "metadata": {
        "id": "XWEYvN96t7Yu"
      },
      "source": [
        "Pregunta 9:"
      ]
    },
    {
      "cell_type": "code",
      "metadata": {
        "id": "l5O77_cTt8mJ",
        "colab": {
          "base_uri": "https://localhost:8080/"
        },
        "outputId": "7e32fa5c-680b-456e-9f97-4683ca2dcde7"
      },
      "source": [
        "%%writefile Genially>5.cpp\n",
        "\n",
        "Abstracción es la habilidad de identificar información esencial de un objeto que las distinguen de otras. \n"
      ],
      "execution_count": 9,
      "outputs": [
        {
          "output_type": "stream",
          "name": "stdout",
          "text": [
            "Overwriting Genially>5.cpp\n"
          ]
        }
      ]
    },
    {
      "cell_type": "markdown",
      "metadata": {
        "id": "99RZZreozEDJ"
      },
      "source": [
        "Pregunta 10:\n"
      ]
    },
    {
      "cell_type": "code",
      "metadata": {
        "id": "k7H6LL55zFz1",
        "colab": {
          "base_uri": "https://localhost:8080/"
        },
        "outputId": "910ab8b1-02a9-4ca3-8c23-4bc3eec67898"
      },
      "source": [
        "%%writefile Genially>5.cpp\n",
        "\n",
        "Se ejecuta la función de la clase derivada, debido a la herencia."
      ],
      "execution_count": 36,
      "outputs": [
        {
          "output_type": "stream",
          "name": "stdout",
          "text": [
            "Overwriting Genially>5.cpp\n"
          ]
        }
      ]
    },
    {
      "cell_type": "markdown",
      "metadata": {
        "id": "VfPnOwPPz_sr"
      },
      "source": [
        "Pregunta 11:"
      ]
    },
    {
      "cell_type": "code",
      "metadata": {
        "id": "F4pAi14x0A4l",
        "colab": {
          "base_uri": "https://localhost:8080/"
        },
        "outputId": "f43597d0-b332-45f4-aafc-e5c476751eb6"
      },
      "source": [
        "%%writefile Genially>5.cpp\n",
        "cout<<\"no\";\n"
      ],
      "execution_count": 35,
      "outputs": [
        {
          "output_type": "stream",
          "name": "stdout",
          "text": [
            "Overwriting Genially>5.cpp\n"
          ]
        }
      ]
    },
    {
      "cell_type": "markdown",
      "metadata": {
        "id": "aZT7KyKG0xWd"
      },
      "source": [
        "Pregunta 12:"
      ]
    },
    {
      "cell_type": "code",
      "metadata": {
        "id": "oNjvVIO10ymh",
        "colab": {
          "base_uri": "https://localhost:8080/"
        },
        "outputId": "edce30cb-4ec5-4e9d-b8f4-347e0f93f1ee"
      },
      "source": [
        "%%writefile Genially>5.cpp\n",
        "\n",
        "la herencia es un concepto de poo que permite reutilizar metodos o funcionalidades ya definidas en otras clases.\n",
        "\n",
        "\n"
      ],
      "execution_count": 33,
      "outputs": [
        {
          "output_type": "stream",
          "name": "stdout",
          "text": [
            "Overwriting Genially>5.cpp\n"
          ]
        }
      ]
    },
    {
      "cell_type": "markdown",
      "metadata": {
        "id": "Gexl2OMK1IyT"
      },
      "source": [
        "Pregunta 13:"
      ]
    },
    {
      "cell_type": "code",
      "metadata": {
        "id": "t0LknUBx1J_Z",
        "colab": {
          "base_uri": "https://localhost:8080/"
        },
        "outputId": "74307a95-992a-424e-a274-531c9a44622e"
      },
      "source": [
        "%%writefile Genially>5.cpp\n",
        "\n",
        "namespace o espacio de nombres es una biblioteca estandar que tiene la funcionalidad de contenedor. \n"
      ],
      "execution_count": 32,
      "outputs": [
        {
          "output_type": "stream",
          "name": "stdout",
          "text": [
            "Overwriting Genially>5.cpp\n"
          ]
        }
      ]
    },
    {
      "cell_type": "markdown",
      "metadata": {
        "id": "c0cwHQOG2DmS"
      },
      "source": [
        "Pregunta 14:"
      ]
    },
    {
      "cell_type": "code",
      "metadata": {
        "id": "QMfl_Ft42Ez7",
        "colab": {
          "base_uri": "https://localhost:8080/"
        },
        "outputId": "4561f7b7-0251-477f-e5d7-f25d04cc50e1"
      },
      "source": [
        "%%writefile Genially>5.cpp\n",
        "\n",
        "Sirve de base para otras clases denominadas como clases concretas. Tambien, para que un metodo virtual puro declarado en la clase abstracta sea redefinido en la clase concretas. "
      ],
      "execution_count": 31,
      "outputs": [
        {
          "output_type": "stream",
          "name": "stdout",
          "text": [
            "Overwriting Genially>5.cpp\n"
          ]
        }
      ]
    },
    {
      "cell_type": "markdown",
      "metadata": {
        "id": "s5z6BhZK2oGH"
      },
      "source": [
        "Pregunta 15:"
      ]
    },
    {
      "cell_type": "code",
      "metadata": {
        "id": "Rs_WnvLz2par",
        "colab": {
          "base_uri": "https://localhost:8080/"
        },
        "outputId": "0f9b171d-d0fe-49c8-82e9-121dbdf76db4"
      },
      "source": [
        "%%writefile Genially>5.cpp\n",
        "\n",
        "la memoria tipo pila es un espacio para almacenar datos de un puntero. Tambien, si queremos insertar o eliminar datos todas ellas se hacen por el extremo de la pila. "
      ],
      "execution_count": 30,
      "outputs": [
        {
          "output_type": "stream",
          "name": "stdout",
          "text": [
            "Overwriting Genially>5.cpp\n"
          ]
        }
      ]
    },
    {
      "cell_type": "markdown",
      "metadata": {
        "id": "Ct1fU4ZX3pD8"
      },
      "source": [
        "Pregunta 16:"
      ]
    },
    {
      "cell_type": "code",
      "metadata": {
        "id": "dfoPJPId3qMl",
        "colab": {
          "base_uri": "https://localhost:8080/"
        },
        "outputId": "d9cd514a-2e88-43f3-e18f-3a95b6d06f39"
      },
      "source": [
        "%%writefile Genially>5.cpp\n",
        "\n",
        "El polimorfismo se ha usado para agregar algunas funcionalidades a nuestros metodos heredados que funcionan de la \"misma\" manera que el de la clase base."
      ],
      "execution_count": 29,
      "outputs": [
        {
          "output_type": "stream",
          "name": "stdout",
          "text": [
            "Overwriting Genially>5.cpp\n"
          ]
        }
      ]
    },
    {
      "cell_type": "markdown",
      "metadata": {
        "id": "V4F3HO_B4U6T"
      },
      "source": [
        "Pregunta 17:"
      ]
    },
    {
      "cell_type": "code",
      "metadata": {
        "id": "-qLb-3wk4WYW",
        "colab": {
          "base_uri": "https://localhost:8080/"
        },
        "outputId": "37d2ec6a-9d2d-4e70-b57d-b90534216943"
      },
      "source": [
        "%%writefile Genially>5.cpp\n",
        "cout<<\"no\";"
      ],
      "execution_count": 28,
      "outputs": [
        {
          "output_type": "stream",
          "name": "stdout",
          "text": [
            "Overwriting Genially>5.cpp\n"
          ]
        }
      ]
    },
    {
      "cell_type": "markdown",
      "metadata": {
        "id": "GN2zGEKq42Ye"
      },
      "source": [
        "Pregunta 18:"
      ]
    },
    {
      "cell_type": "code",
      "metadata": {
        "id": "wQEU09DJ431D",
        "colab": {
          "base_uri": "https://localhost:8080/"
        },
        "outputId": "044ac9cd-9016-42f0-e758-f70caf0e452c"
      },
      "source": [
        "%%writefile Genially>5.cpp\n",
        "cout<<\"no\";"
      ],
      "execution_count": 26,
      "outputs": [
        {
          "output_type": "stream",
          "name": "stdout",
          "text": [
            "Overwriting Genially>5.cpp\n"
          ]
        }
      ]
    },
    {
      "cell_type": "markdown",
      "metadata": {
        "id": "W0ehFA3H4_1y"
      },
      "source": [
        "Pregunta 19:"
      ]
    },
    {
      "cell_type": "code",
      "metadata": {
        "id": "5K9-mSee5BiT",
        "colab": {
          "base_uri": "https://localhost:8080/"
        },
        "outputId": "a43bf8fc-6538-403a-9f33-08b342737582"
      },
      "source": [
        "%%writefile Genially>5.cpp\n",
        "\n",
        "Cuando el archivo que no se esta utilizando es necesario cerrarlo, debido a que se corre el riesgo de dañar o perder la información. Tambien, cuando ya no sé utiliza un archivo es necesario cerrarlo para que la memoria cache este vacia, por lo que la información se asegura y protefe los datos."
      ],
      "execution_count": 23,
      "outputs": [
        {
          "output_type": "stream",
          "name": "stdout",
          "text": [
            "Overwriting Genially>5.cpp\n"
          ]
        }
      ]
    },
    {
      "cell_type": "markdown",
      "metadata": {
        "id": "P3JCub8s5q-1"
      },
      "source": [
        "Pregunta 20:\n"
      ]
    },
    {
      "cell_type": "code",
      "metadata": {
        "id": "a-0uG3Tj5saD",
        "colab": {
          "base_uri": "https://localhost:8080/"
        },
        "outputId": "41ee43c0-52c7-4919-d184-a505f1e397f2"
      },
      "source": [
        "%%writefile Genially>5.cpp\n",
        "\n",
        "Allí se asigna un objeto de una clase derivada a una instancia de una clase base, perdiendo información, porque parte de ella se acorta.\n",
        "\n",
        "class base\n",
        "{\n",
        "    int tamaño;\n",
        "};\n",
        "class derivada: public x\n",
        "{\n",
        "    \n",
        "int peso;\n",
        "\n",
        "};\n",
        "\n",
        "int main()\n",
        "{\n",
        "derivada a;\n",
        " base b=a; \n",
        ";\n",
        "}\n",
        "Se puede asignar un objeto de clase derivada a un objeto de clase base, pero no hacer lo contrario.\n",
        "\n",
        "\n",
        "\n",
        "\n"
      ],
      "execution_count": 22,
      "outputs": [
        {
          "output_type": "stream",
          "name": "stdout",
          "text": [
            "Overwriting Genially>5.cpp\n"
          ]
        }
      ]
    },
    {
      "cell_type": "markdown",
      "metadata": {
        "id": "4dmMqn6k8XiN"
      },
      "source": [
        "Pregunta 21:"
      ]
    },
    {
      "cell_type": "code",
      "metadata": {
        "colab": {
          "base_uri": "https://localhost:8080/"
        },
        "id": "_N1lO61h8ZEl",
        "outputId": "069421fa-d18f-48db-ad3f-94c3d4b2594c"
      },
      "source": [
        "%%writefile Genially>5.cpp\n",
        "\n",
        "#include <iostream>\n",
        "#include<vector>\n",
        "\n",
        "class pelota\n",
        "{\n",
        "    \n",
        "\n",
        "\n",
        "}\n",
        "class Pelotas\n",
        "{\n",
        "    vector*<pelota> arreglo;\n",
        "\n",
        "\n",
        "}\n"
      ],
      "execution_count": 21,
      "outputs": [
        {
          "output_type": "stream",
          "name": "stdout",
          "text": [
            "Overwriting Genially>5.cpp\n"
          ]
        }
      ]
    },
    {
      "cell_type": "markdown",
      "metadata": {
        "id": "W2hm9nw99chH"
      },
      "source": [
        "He usado vectores por la forma secuencial de almacenamiento de datos que tienen y por su forma secuencial de acceso a estas."
      ]
    },
    {
      "cell_type": "markdown",
      "metadata": {
        "id": "PCTZkwKz9l02"
      },
      "source": [
        "Pregunta 22:"
      ]
    },
    {
      "cell_type": "code",
      "metadata": {
        "id": "Gp1eu5-b9nrb",
        "colab": {
          "base_uri": "https://localhost:8080/"
        },
        "outputId": "af5c72cc-febf-4a6b-ff5b-299e66e7bed3"
      },
      "source": [
        "%%writefile Genially>5.cpp\n",
        "\n",
        "El constructor se escribe porque es necesario para que un objeto de la clases exista, sin el constructor no podemos crear un objeto de clase.\n",
        "\n",
        "class objeto\n",
        "{\n",
        " private:\n",
        "    int h;\n",
        "    public:\n",
        " objeto(){}\n",
        "\n",
        "}\n",
        "\n"
      ],
      "execution_count": 20,
      "outputs": [
        {
          "output_type": "stream",
          "name": "stdout",
          "text": [
            "Overwriting Genially>5.cpp\n"
          ]
        }
      ]
    },
    {
      "cell_type": "markdown",
      "metadata": {
        "id": "-uPEBE-e95rp"
      },
      "source": [
        "Pregunta 23: "
      ]
    },
    {
      "cell_type": "code",
      "metadata": {
        "id": "VvP5XWau97WS",
        "colab": {
          "base_uri": "https://localhost:8080/"
        },
        "outputId": "89d272f6-a1e3-48d2-ed33-f00a3cca48c6"
      },
      "source": [
        "%%writefile Genially>5.cpp\n",
        "\n",
        "Si no se escribe el constructor no podriamos declararla, por lo que tampoco crearla e inicializarla."
      ],
      "execution_count": 19,
      "outputs": [
        {
          "output_type": "stream",
          "name": "stdout",
          "text": [
            "Overwriting Genially>5.cpp\n"
          ]
        }
      ]
    },
    {
      "cell_type": "markdown",
      "metadata": {
        "id": "dPEwYK_p-PnF"
      },
      "source": [
        "Pregunta 24:"
      ]
    },
    {
      "cell_type": "code",
      "metadata": {
        "id": "X7tXRelI-Sf6",
        "colab": {
          "base_uri": "https://localhost:8080/"
        },
        "outputId": "79e3bbcb-f58d-47aa-9f69-f4655e457148"
      },
      "source": [
        "%%writefile Genially>5.cpp\n",
        "El constructor puede ser sobrecargado para tener distintas combinaciones de parametros de entrada.\n",
        "\n",
        "class objeto\n",
        "{\n",
        "    public:\n",
        " objeto(){}\n",
        " objeto(int a, int b){}\n",
        "\n",
        "}\n",
        "\n"
      ],
      "execution_count": 18,
      "outputs": [
        {
          "output_type": "stream",
          "name": "stdout",
          "text": [
            "Overwriting Genially>5.cpp\n"
          ]
        }
      ]
    },
    {
      "cell_type": "markdown",
      "metadata": {
        "id": "u9rlzzaH-tw-"
      },
      "source": [
        "Pregunta 25:"
      ]
    },
    {
      "cell_type": "code",
      "metadata": {
        "id": "V7HPhpOZ-vEa",
        "colab": {
          "base_uri": "https://localhost:8080/"
        },
        "outputId": "b2f0cb77-db40-4fc0-8760-191ecfcf141b"
      },
      "source": [
        "%%writefile Genially>5.cpp\n",
        "una tuplca es una colección heterogeneo de objetos,coleccion ordenada de diferentes tipos, la cual se trata como una sola unidad.\n",
        "\n",
        "tupla(string,string,int)\n",
        "\n",
        "un vector puede coleccion homogenea de objetos,coleccion ordenada de objetos del mismo tipo, cada una puede tratarse de manera uniforme.\n"
      ],
      "execution_count": 17,
      "outputs": [
        {
          "output_type": "stream",
          "name": "stdout",
          "text": [
            "Overwriting Genially>5.cpp\n"
          ]
        }
      ]
    },
    {
      "cell_type": "markdown",
      "metadata": {
        "id": "Vx_NXEtZ_b3J"
      },
      "source": [
        "Pregunta 26:"
      ]
    },
    {
      "cell_type": "code",
      "metadata": {
        "id": "kdbPrH3C_dus",
        "colab": {
          "base_uri": "https://localhost:8080/"
        },
        "outputId": "8c2cd04f-9942-4fd9-a3d8-0b09c86fbb5a"
      },
      "source": [
        "%%writefile Genially>5.cpp\n",
        "Primero se llama al constructor de la clase base, luego los constructores de la base se inicializan ordenados en la declaración de clase para despues llamar recien al constructor de la clase derivada."
      ],
      "execution_count": 16,
      "outputs": [
        {
          "output_type": "stream",
          "name": "stdout",
          "text": [
            "Overwriting Genially>5.cpp\n"
          ]
        }
      ]
    },
    {
      "cell_type": "markdown",
      "metadata": {
        "id": "ZPzK5S6qAahq"
      },
      "source": [
        "Pregunta 27:"
      ]
    },
    {
      "cell_type": "code",
      "metadata": {
        "id": "jUwjU_l7AcEZ",
        "colab": {
          "base_uri": "https://localhost:8080/"
        },
        "outputId": "c81960bb-51f6-4ce1-e94f-3475bfea321c"
      },
      "source": [
        "%%writefile Genially>5.cpp\n",
        "//Composición->Composición fuerte, la vida de la clase contenidad debe de coincidir con la vida de la clase contenedor\n",
        "class Area\n",
        "{\n",
        "    \n",
        "\n",
        "\n",
        "}\n",
        "class Ruta\n",
        "{\n",
        "    public:\n",
        "    void agregar_Area(Area objeto);\n",
        "\n",
        "}\n",
        "//Agregacion->Composición debil, indica que una clase es parte de otra clase\n",
        "class Rueda\n",
        "{\n",
        "    \n",
        "\n",
        "\n",
        "}\n",
        "class Medio_Transporte\n",
        "{\n",
        "private:\n",
        "    Rueda* ruedas;\n",
        "\n",
        "public:\n",
        " void agregar_rueda(Rueda obj_rueda)\n",
        " \n",
        "}"
      ],
      "execution_count": 15,
      "outputs": [
        {
          "output_type": "stream",
          "name": "stdout",
          "text": [
            "Overwriting Genially>5.cpp\n"
          ]
        }
      ]
    },
    {
      "cell_type": "markdown",
      "metadata": {
        "id": "iQwT0_ZlC0Vg"
      },
      "source": [
        "Pregunta 28:"
      ]
    },
    {
      "cell_type": "code",
      "metadata": {
        "id": "-zVqkh7pC2Jm",
        "colab": {
          "base_uri": "https://localhost:8080/"
        },
        "outputId": "31b6631b-5527-47c8-89de-913b0b7b09ab"
      },
      "source": [
        "%%writefile Genially>5.cpp\n",
        "El manejo de excepciones se proporciona un control de programas de transferencia(intentar,capturar y tiro).\n",
        "\n",
        "\n"
      ],
      "execution_count": 14,
      "outputs": [
        {
          "output_type": "stream",
          "name": "stdout",
          "text": [
            "Overwriting Genially>5.cpp\n"
          ]
        }
      ]
    },
    {
      "cell_type": "markdown",
      "metadata": {
        "id": "dCdOVZbwDq--"
      },
      "source": [
        "Pregunta 29:"
      ]
    },
    {
      "cell_type": "code",
      "metadata": {
        "id": "JGesnWAYDtcT",
        "colab": {
          "base_uri": "https://localhost:8080/"
        },
        "outputId": "d56b673d-c81f-409f-d8b9-fac41c8f7881"
      },
      "source": [
        "%%writefile Genially>5.cpp\n",
        "//la clase viaje depende de la clase transporte, poqrue transporte puede existir sin la clase viaje\n",
        "\n",
        "class viaje\n",
        "{\n",
        "    \n",
        "\n",
        "\n",
        "}\n",
        "class transporte\n",
        "{\n",
        "    \n",
        "\n",
        "\n",
        "\n",
        "}"
      ],
      "execution_count": 13,
      "outputs": [
        {
          "output_type": "stream",
          "name": "stdout",
          "text": [
            "Overwriting Genially>5.cpp\n"
          ]
        }
      ]
    },
    {
      "cell_type": "markdown",
      "metadata": {
        "id": "bVZ047LKAHRW"
      },
      "source": [
        ""
      ]
    },
    {
      "cell_type": "markdown",
      "metadata": {
        "id": "K5RwaGSdEOd8"
      },
      "source": [
        "Pregunta 30:\n"
      ]
    },
    {
      "cell_type": "code",
      "metadata": {
        "id": "qIY4w53fEQqA",
        "colab": {
          "base_uri": "https://localhost:8080/"
        },
        "outputId": "8b634722-9bc1-4862-d0e7-7ef80b20745f"
      },
      "source": [
        "%%writefile Genially>5.cpp\n",
        "Una clase puede heredar de 2 clases, denominada herencia multiple \n",
        "\n",
        "\n",
        "class electrico\n",
        "{\n",
        "    \n",
        "}\n",
        "class mecanico\n",
        "{\n",
        "    \n",
        "}\n",
        "class mecatronico:public electrico, public mecanico\n",
        "{\n",
        "    \n",
        "\n",
        "}\n",
        "\n"
      ],
      "execution_count": 42,
      "outputs": [
        {
          "output_type": "stream",
          "name": "stdout",
          "text": [
            "Overwriting Genially>5.cpp\n"
          ]
        }
      ]
    },
    {
      "cell_type": "markdown",
      "metadata": {
        "id": "UbhBcN0EHXII"
      },
      "source": [
        "Pregunta 31:"
      ]
    },
    {
      "cell_type": "code",
      "metadata": {
        "id": "ELlRjsmtHZAX",
        "colab": {
          "base_uri": "https://localhost:8080/"
        },
        "outputId": "a19407ac-f09e-4e23-bbcd-182e6956cf20"
      },
      "source": [
        "%%writefile Genially>5.cpp\n",
        "//para identificar una relación de asociacion es necesario identificar el pseudoatributo. Es decir en ambas clases y dentro de los atributos estara la otra clase\n",
        "class empresa\n",
        "{\n",
        "   private: \n",
        "\n",
        "*persona personas;//pseudoatributo\n",
        "\n",
        "}\n",
        "class Persona\n",
        "{\n",
        "    private:\n",
        " string name;\n",
        "Empresa* empresa;//pseudoatributo\n",
        "\n",
        "}\n",
        "\n",
        "\n"
      ],
      "execution_count": 41,
      "outputs": [
        {
          "output_type": "stream",
          "name": "stdout",
          "text": [
            "Overwriting Genially>5.cpp\n"
          ]
        }
      ]
    }
  ]
}