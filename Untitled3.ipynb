{
  "nbformat": 4,
  "nbformat_minor": 0,
  "metadata": {
    "colab": {
      "name": "Untitled3.ipynb",
      "provenance": [],
      "authorship_tag": "ABX9TyMd7XAcuNOoBwIzYDDzhLzL",
      "include_colab_link": true
    },
    "kernelspec": {
      "name": "python3",
      "display_name": "Python 3"
    },
    "language_info": {
      "name": "python"
    }
  },
  "cells": [
    {
      "cell_type": "markdown",
      "metadata": {
        "id": "view-in-github",
        "colab_type": "text"
      },
      "source": [
        "<a href=\"https://colab.research.google.com/github/PauloAylas/Algoritmos2/blob/main/Untitled3.ipynb\" target=\"_parent\"><img src=\"https://colab.research.google.com/assets/colab-badge.svg\" alt=\"Open In Colab\"/></a>"
      ]
    },
    {
      "cell_type": "code",
      "metadata": {
        "colab": {
          "base_uri": "https://localhost:8080/"
        },
        "id": "vWJP9jD6LCa9",
        "outputId": "dcf462e9-781b-4746-948f-f2e7000d6c7e"
      },
      "source": [
        "%%writefile Pregunta5.cpp\n",
        "#include<iostream>\n"
      ],
      "execution_count": 35,
      "outputs": [
        {
          "output_type": "stream",
          "name": "stdout",
          "text": [
            "Overwriting Pregunta5.cpp\n"
          ]
        }
      ]
    },
    {
      "cell_type": "code",
      "metadata": {
        "id": "eZTBhlFyLShW",
        "colab": {
          "base_uri": "https://localhost:8080/"
        },
        "outputId": "bf5cae2b-11b5-48ed-d770-4e6c023cd47b"
      },
      "source": [
        "!g++ Pregunta5.cpp"
      ],
      "execution_count": null,
      "outputs": [
        {
          "output_type": "stream",
          "name": "stdout",
          "text": [
            "\u001b[01m\u001b[KPregunta5.cpp:2:1:\u001b[m\u001b[K \u001b[01;31m\u001b[Kerror: \u001b[m\u001b[Kexpected declaration before ‘\u001b[01m\u001b[K}\u001b[m\u001b[K’ token\n",
            " \u001b[01;31m\u001b[K}\u001b[m\u001b[K\n",
            " \u001b[01;31m\u001b[K^\u001b[m\u001b[K\n"
          ]
        }
      ]
    },
    {
      "cell_type": "code",
      "metadata": {
        "colab": {
          "base_uri": "https://localhost:8080/"
        },
        "id": "nN3MkeGVMS2B",
        "outputId": "72329fc2-9581-4481-bf40-64d737ed7d44"
      },
      "source": [
        "#ejecucion\n",
        "!./a.out"
      ],
      "execution_count": null,
      "outputs": [
        {
          "output_type": "stream",
          "name": "stdout",
          "text": [
            "hola"
          ]
        }
      ]
    },
    {
      "cell_type": "code",
      "metadata": {
        "colab": {
          "base_uri": "https://localhost:8080/"
        },
        "id": "bao-Z2Z8MypR",
        "outputId": "dc1c5496-dd63-4c2b-ef8f-b4a61c4a9c44"
      },
      "source": [
        "!g++ Pregunta5.cpp && ./a.out"
      ],
      "execution_count": null,
      "outputs": [
        {
          "output_type": "stream",
          "name": "stdout",
          "text": [
            "/usr/lib/gcc/x86_64-linux-gnu/7/../../../x86_64-linux-gnu/Scrt1.o: In function `_start':\n",
            "(.text+0x20): undefined reference to `main'\n",
            "collect2: error: ld returned 1 exit status\n"
          ]
        }
      ]
    }
  ]
}