{
  "nbformat": 4,
  "nbformat_minor": 0,
  "metadata": {
    "colab": {
      "name": "Untitled4.ipynb",
      "provenance": [],
      "authorship_tag": "ABX9TyOUwecznqcMJtocmnsTt4R/",
      "include_colab_link": true
    },
    "kernelspec": {
      "name": "python3",
      "display_name": "Python 3"
    },
    "language_info": {
      "name": "python"
    }
  },
  "cells": [
    {
      "cell_type": "markdown",
      "metadata": {
        "id": "view-in-github",
        "colab_type": "text"
      },
      "source": [
        "<a href=\"https://colab.research.google.com/github/PauloAylas/Algoritmos2/blob/main/Constructor.ipynb\" target=\"_parent\"><img src=\"https://colab.research.google.com/assets/colab-badge.svg\" alt=\"Open In Colab\"/></a>"
      ]
    },
    {
      "cell_type": "markdown",
      "metadata": {
        "id": "ablcy0-zb9mg"
      },
      "source": [
        "Templates\n"
      ]
    },
    {
      "cell_type": "code",
      "metadata": {
        "colab": {
          "base_uri": "https://localhost:8080/"
        },
        "id": "Rj7uql7mcAjg",
        "outputId": "35974a58-3ea9-4d56-cf5a-f5e0adedcc4b"
      },
      "source": [
        "%%writefile sinTemplates.cpp\n",
        "class Operacion{\n",
        "    int n1;\n",
        "    int n2;\n",
        "    public:\n",
        "    Operacion(){\n",
        "    this->n1=0;\n",
        "    this->n2=0;\n",
        "    }\n",
        "    Operacion(int n1){\n",
        "    this->n1=n1;\n",
        "    this->n2=0;\n",
        "    }\n",
        "    Operacion(int n1,int n2){\n",
        "    this->n1=n1;\n",
        "    this->n2=n2;\n",
        "    }\n",
        "};\n",
        "int main(){\n",
        "      \n",
        "   Operacion o1;\n",
        "   Operacion o2(100);\n",
        "   Operacion o3(100,200);\n",
        "   return 0;\n",
        "}\n"
      ],
      "execution_count": 6,
      "outputs": [
        {
          "output_type": "stream",
          "name": "stdout",
          "text": [
            "Overwriting sinTemplates.cpp\n"
          ]
        }
      ]
    },
    {
      "cell_type": "code",
      "metadata": {
        "id": "cestcOamdEWt"
      },
      "source": [
        "!g++ sinTemplates.cpp && ./a.out"
      ],
      "execution_count": 7,
      "outputs": []
    },
    {
      "cell_type": "code",
      "metadata": {
        "colab": {
          "base_uri": "https://localhost:8080/"
        },
        "id": "QvSntSI8e60M",
        "outputId": "1ae966aa-0f81-494a-9fe4-79227b233a12"
      },
      "source": [
        "%%writefile sinTemplates.cpp\n",
        "\n",
        "class Operacion{\n",
        "    int n1;\n",
        "    int n2;\n",
        "    public:\n",
        "    Operacion(int n1=0,int n2=0){\n",
        "        this->n1=n1;\n",
        "        this->n2=n2;\n",
        "    }\n",
        "};\n",
        "\n",
        "int main()\n",
        "{\n",
        "    Operacion o1;\n",
        "    Operacion o2(100);  \n",
        "    Operacion o3(100,200);\n",
        "    return 0;\n",
        "}"
      ],
      "execution_count": 9,
      "outputs": [
        {
          "output_type": "stream",
          "name": "stdout",
          "text": [
            "Overwriting sinTemplates.cpp\n"
          ]
        }
      ]
    },
    {
      "cell_type": "code",
      "metadata": {
        "id": "gBcWCSa2fczk"
      },
      "source": [
        "!g++ sinTemplates.cpp && ./a.out"
      ],
      "execution_count": 10,
      "outputs": []
    },
    {
      "cell_type": "code",
      "metadata": {
        "colab": {
          "base_uri": "https://localhost:8080/"
        },
        "id": "HjwqNiAgf3h8",
        "outputId": "d3aba9a5-6f9b-4400-8151-796879ef864d"
      },
      "source": [
        "%%writefile sinTemplates.cpp\n",
        "\n",
        "class Operacion{\n",
        "    int n1;\n",
        "    int n2;\n",
        "    public:\n",
        "    Operacion(int n1=0,int n2=0):n1(n1),n2(n2){}\n",
        "};\n",
        "\n",
        "int main()\n",
        "{\n",
        "    Operacion o1;\n",
        "    Operacion o2(100);  \n",
        "    Operacion o3(100,200);\n",
        "    return 0;\n",
        "}"
      ],
      "execution_count": 11,
      "outputs": [
        {
          "output_type": "stream",
          "name": "stdout",
          "text": [
            "Overwriting sinTemplates.cpp\n"
          ]
        }
      ]
    },
    {
      "cell_type": "code",
      "metadata": {
        "id": "Jx_uNJ3HgAIa"
      },
      "source": [
        "!g++ sinTemplates.cpp && ./a.out"
      ],
      "execution_count": 13,
      "outputs": []
    },
    {
      "cell_type": "code",
      "metadata": {
        "colab": {
          "base_uri": "https://localhost:8080/"
        },
        "id": "jexqYtGShL-w",
        "outputId": "ea4054f4-1e0a-4ce5-cafd-15bae7c37e2b"
      },
      "source": [
        "%%writefile sinTemplates2.cpp\n",
        "#include <iostream>\n",
        "using std::cout;\n",
        "using std::endl;\n",
        "typedef unsigned long long ull;\n",
        "class Operacion1{\n",
        "    short n1;\n",
        "    short n2;\n",
        "    public:\n",
        "    Operacion1(short n1=0,short n2=0):n1(n1),n2(n2){}\n",
        "    short suma(){return n1+n2;}\n",
        "};\n",
        "class Operacion2{\n",
        "    int n1;\n",
        "    int n2;\n",
        "    public:\n",
        "    Operacion2(int n1=0,int n2=0):n1(n1),n2(n2){}\n",
        "    int suma(){return n1+n2;}\n",
        "};\n",
        "class Operacion3{\n",
        "    ull n1;\n",
        "    ull n2;\n",
        "    public:\n",
        "    Operacion3(ull n1=0,ull n2=0):n1(n1),n2(n2){}\n",
        "    ull suma(){return n1+n2;} \n",
        "\n",
        "};\n",
        "class Operacion4{\n",
        "    double n1;\n",
        "    double n2;\n",
        "    public:\n",
        "    Operacion4(double n1=0,double n2=0):n1(n1),n2(n2){}\n",
        "    double suma(){return n1+n2;}\n",
        "\n",
        "};\n",
        "int main(){\n",
        "    Operacion1 o1(123456789.35,132456.24);\n",
        "    Operacion2 o2(123456789.35,132456.24);\n",
        "    Operacion3 o3(123456789.35,132456.24);\n",
        "    Operacion4 o4(123456789.35,132456.24);\n",
        "    cout<<o1.suma()<<endl;\n",
        "    cout<<o2.suma()<<endl;\n",
        "    cout<<o3.suma()<<endl;\n",
        "    cout<<o4.suma()<<endl;\n",
        "return 0;\n",
        "}\n"
      ],
      "execution_count": 24,
      "outputs": [
        {
          "output_type": "stream",
          "name": "stdout",
          "text": [
            "Overwriting sinTemplates2.cpp\n"
          ]
        }
      ]
    },
    {
      "cell_type": "code",
      "metadata": {
        "colab": {
          "base_uri": "https://localhost:8080/"
        },
        "id": "yIcKMvhg3vAC",
        "outputId": "0424beec-9576-4f99-eec8-9797f88f5472"
      },
      "source": [
        "!g++ sinTemplates2.cpp && ./a.out"
      ],
      "execution_count": 25,
      "outputs": [
        {
          "output_type": "stream",
          "name": "stdout",
          "text": [
            "\u001b[01m\u001b[KsinTemplates2.cpp:\u001b[m\u001b[K In function ‘\u001b[01m\u001b[Kint main()\u001b[m\u001b[K’:\n",
            "\u001b[01m\u001b[KsinTemplates2.cpp:36:41:\u001b[m\u001b[K \u001b[01;35m\u001b[Kwarning: \u001b[m\u001b[Koverflow in implicit constant conversion [\u001b[01;35m\u001b[K-Woverflow\u001b[m\u001b[K]\n",
            "     Operacion1 o1(123456789.35,132456.24\u001b[01;35m\u001b[K)\u001b[m\u001b[K;\n",
            "                                         \u001b[01;35m\u001b[K^\u001b[m\u001b[K\n",
            "\u001b[01m\u001b[KsinTemplates2.cpp:36:41:\u001b[m\u001b[K \u001b[01;35m\u001b[Kwarning: \u001b[m\u001b[Koverflow in implicit constant conversion [\u001b[01;35m\u001b[K-Woverflow\u001b[m\u001b[K]\n",
            "-2\n",
            "123589245\n",
            "123589245\n",
            "1.23589e+08\n"
          ]
        }
      ]
    },
    {
      "cell_type": "code",
      "metadata": {
        "colab": {
          "base_uri": "https://localhost:8080/"
        },
        "id": "QG4jNGmb49Kc",
        "outputId": "b971d26f-ff7e-4125-d8f9-ed1c487b0151"
      },
      "source": [
        "%%writefile conTemplates.cpp\n",
        "#include<iostream>\n",
        "using std::cout;\n",
        "using std::endl;\n",
        "typedef unsigned long long ull;\n",
        "template<class Tipo>\n",
        "class Operacion{\n",
        "    Tipo n1;\n",
        "    Tipo n2;\n",
        "    public:\n",
        "    Operacion(Tipo n1=0,Tipo n2=0):n1(n1),n2(n2){}\n",
        "    Tipo suma(){return n1+n2;}    \n",
        "};\n",
        " int main(){\n",
        "    Operacion<short> o1(123456789.35,132456.24);\n",
        "    Operacion<int> o2(123456789.35,132456.24);\n",
        "    Operacion<ull> o3(123456789.35,132456.24);\n",
        "    Operacion<float> o4(123456789.35,132456.24);\n",
        "    cout<<o1.suma()<<endl;\n",
        "    cout<<o2.suma()<<endl;\n",
        "    cout<<o3.suma()<<endl;\n",
        "     cout<<o4.suma()<<endl;\n",
        "    return 0;\n",
        " }\n",
        "\n"
      ],
      "execution_count": 37,
      "outputs": [
        {
          "output_type": "stream",
          "name": "stdout",
          "text": [
            "Overwriting conTemplates.cpp\n"
          ]
        }
      ]
    },
    {
      "cell_type": "code",
      "metadata": {
        "colab": {
          "base_uri": "https://localhost:8080/"
        },
        "id": "ATjhFohx55AO",
        "outputId": "ac5fabd7-59ec-415f-c7b8-a06adad0fb00"
      },
      "source": [
        "!g++ conTemplates.cpp && ./a.out"
      ],
      "execution_count": 38,
      "outputs": [
        {
          "output_type": "stream",
          "name": "stdout",
          "text": [
            "\u001b[01m\u001b[KconTemplates.cpp:\u001b[m\u001b[K In function ‘\u001b[01m\u001b[Kint main()\u001b[m\u001b[K’:\n",
            "\u001b[01m\u001b[KconTemplates.cpp:14:47:\u001b[m\u001b[K \u001b[01;35m\u001b[Kwarning: \u001b[m\u001b[Koverflow in implicit constant conversion [\u001b[01;35m\u001b[K-Woverflow\u001b[m\u001b[K]\n",
            "     Operacion<short> o1(123456789.35,132456.24\u001b[01;35m\u001b[K)\u001b[m\u001b[K;\n",
            "                                               \u001b[01;35m\u001b[K^\u001b[m\u001b[K\n",
            "\u001b[01m\u001b[KconTemplates.cpp:14:47:\u001b[m\u001b[K \u001b[01;35m\u001b[Kwarning: \u001b[m\u001b[Koverflow in implicit constant conversion [\u001b[01;35m\u001b[K-Woverflow\u001b[m\u001b[K]\n",
            "-2\n",
            "123589245\n",
            "123589245\n",
            "1.23589e+08\n"
          ]
        }
      ]
    },
    {
      "cell_type": "markdown",
      "metadata": {
        "id": "M3CfoXPpfjHs"
      },
      "source": [
        ""
      ]
    }
  ]
}